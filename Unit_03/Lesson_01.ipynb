{
 "cells": [
  {
   "cell_type": "markdown",
   "metadata": {},
   "source": [
    "### __Artificial Neural Networks and Applications__\n",
    "Date : 10, Oct, 2024."
   ]
  },
  {
   "cell_type": "markdown",
   "metadata": {},
   "source": [
    "\n",
    "```**Introduction:**```\n",
    "- The brain processes input via neurons, which is the foundation for **Artificial Neural Networks (ANNs)**, mimicking biological neural networks.\n",
    "- Neurons in the brain are interconnected at synapses, and ANNs use artificial neurons in a similar way to learn from input data.\n"
   ]
  },
  {
   "cell_type": "markdown",
   "metadata": {},
   "source": [
    "```**Structure of Artificial Neural Networks:**```\n",
    "- **Artificial Neurons (Units):** Organized in layers: input, hidden, and output layers.\n",
    "  - **Input Layer:** Receives external data.\n",
    "  - **Hidden Layer(s):** Processes the data.\n",
    "  - **Output Layer:** Produces the final response.\n",
    "- **Weights:** Connections between neurons are weighted, adjusting during training to optimize the performance."
   ]
  }
 ],
 "metadata": {
  "language_info": {
   "name": "python"
  }
 },
 "nbformat": 4,
 "nbformat_minor": 2
}
