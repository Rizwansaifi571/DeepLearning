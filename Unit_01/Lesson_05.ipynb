{
 "cells": [
  {
   "cell_type": "markdown",
   "metadata": {},
   "source": [
    "# __Understanding Multi-Layer Feed Forward Networks__\n",
    "__Date :__ 4, Aug, 2024."
   ]
  },
  {
   "cell_type": "markdown",
   "metadata": {},
   "source": [
    "Let’s understand how errors are calculated and weights are updated in backpropagation networks (BPNs).\n",
    "\n",
    "## `Backpropagation Network (BPN)`\n",
    "\n",
    "The network in the diagram below is a simple multi-layer feed-forward network or backpropagation network. It contains three layers:\n",
    "- Input layer with two neurons: x1 and x2\n",
    "- Hidden layer with two neurons: z1 and z2\n",
    "- Output layer with one neuron: yin\n",
    "\n",
    "![Backpropagation Network Diagram](BPN.png)"
   ]
  }
 ],
 "metadata": {
  "language_info": {
   "name": "python"
  }
 },
 "nbformat": 4,
 "nbformat_minor": 2
}
