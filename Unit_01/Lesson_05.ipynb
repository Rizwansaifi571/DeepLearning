{
 "cells": [
  {
   "cell_type": "markdown",
   "metadata": {},
   "source": [
    "# __Understanding Multi-Layer Feed Forward Networks__\n",
    "__Date :__ 4, Aug, 2024."
   ]
  },
  {
   "cell_type": "markdown",
   "metadata": {},
   "source": [
    "Let’s understand how errors are calculated and weights are updated in backpropagation networks (BPNs).\n",
    "\n",
    "## `Backpropagation Network (BPN)`\n",
    "\n",
    "The network in the diagram below is a simple multi-layer feed-forward network or backpropagation network. It contains three layers:\n",
    "- Input layer with two neurons: x1 and x2\n",
    "- Hidden layer with two neurons: z1 and z2\n",
    "- Output layer with one neuron: yin\n",
    "\n",
    "![Backpropagation Network Diagram](BPN.png)"
   ]
  },
  {
   "cell_type": "markdown",
   "metadata": {},
   "source": [
    "## `Weights and Bias Vectors for Each Neuron`\n",
    "\n",
    "### Input Layer\n",
    "- **i/p** – [x1 x2] = [0 1]\n",
    "\n",
    "### Hidden Layer\n",
    "- **z1** – [v11 v21 v01] = [0.6 -0.1 0.3]\n",
    "  - v11: weight of first input x1 on z1\n",
    "  - v21: weight of second input x2 on z1\n",
    "  - v01: bias value on z1\n",
    "- **z2** – [v12 v22 v02] = [-0.3 0.4 0.5]\n",
    "  - v12: weight of first input x1 on z2\n",
    "  - v22: weight of second input x2 on z2\n",
    "  - v02: bias value on z2\n",
    "\n",
    "### Output Layer\n",
    "- **yin** – [w11 w21 w01] = [0.4 0.1 -0.2]\n",
    "  - w11: weight of first neuron z1 in hidden layer on yin\n",
    "  - w21: weight of second neuron z2 in hidden layer on yin\n",
    "  - w01: bias value on yin"
   ]
  }
 ],
 "metadata": {
  "language_info": {
   "name": "python"
  }
 },
 "nbformat": 4,
 "nbformat_minor": 2
}
