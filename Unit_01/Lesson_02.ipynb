{
 "cells": [
  {
   "cell_type": "markdown",
   "metadata": {},
   "source": [
    "# __Single Layer Perceptron in TensorFlow__"
   ]
  },
  {
   "cell_type": "markdown",
   "metadata": {},
   "source": [
    "__Date :__ 10, July, 2024."
   ]
  },
  {
   "cell_type": "markdown",
   "metadata": {},
   "source": [
    "__Working of Neual Network?__"
   ]
  },
  {
   "cell_type": "markdown",
   "metadata": {},
   "source": [
    "* Neural Networks work in the same way that our biological neuron works.\n",
    "\n",
    "* Biological neuron has three basic functionality \n",
    "    * Receive signal from outside.\n",
    "    * Process the signal and enhance whether we need to send information or not.\n",
    "    * Communicate the signal to the target cell which can be another neuron or gland.\n",
    "\n",
    "* In the same way, neural networks also work."
   ]
  }
 ],
 "metadata": {
  "language_info": {
   "name": "python"
  }
 },
 "nbformat": 4,
 "nbformat_minor": 2
}
