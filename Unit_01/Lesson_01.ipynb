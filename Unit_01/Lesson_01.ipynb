{
 "cells": [
  {
   "cell_type": "markdown",
   "metadata": {},
   "source": [
    "#  __Difference between ANN and BNN__"
   ]
  },
  {
   "cell_type": "markdown",
   "metadata": {},
   "source": [
    "__Date__ : 9, July, 2024 "
   ]
  },
  {
   "cell_type": "markdown",
   "metadata": {},
   "source": [
    "#### __Artificial Neural Network (ANN)__\n",
    "- **Definition**: A type of neural network based on a Feed-Forward strategy, passing information through nodes continuously until it reaches the output node.\n",
    "\n",
    "- **Advantages**:\n",
    "  - Can learn from both linear and non-linear data.\n",
    "  - Effective in financial time series forecasting.\n",
    "- **Disadvantages**:\n",
    "  - Simple architecture makes behavior explanation difficult.\n",
    "  - Dependent on hardware.\n"
   ]
  },
  {
   "cell_type": "markdown",
   "metadata": {},
   "source": [
    "\n",
    "#### __Biological Neural Network (BNN)__\n",
    "- **Definition**: A structure composed of synapses, dendrites, cell bodies, and axons where neurons carry out processing.\n",
    "\n",
    "- **Advantages**:\n",
    "  - Synapses act as input processing elements.\n",
    "  - Can process complex parallel inputs.\n",
    "- **Disadvantages**:\n",
    "  - Lack of a controlling mechanism.\n",
    "  - Slower processing speed due to complexity.\n"
   ]
  },
  {
   "cell_type": "markdown",
   "metadata": {},
   "source": [
    "#### __Key Differences__\n",
    "- **Neurons**:\n",
    "  - **BNNs**: Complex, diverse neurons with multiple dendrites and axons.\n",
    "  - **ANNs**: Simplified neurons with usually a single output.\n",
    "\n",
    "- **Synapses**:\n",
    "  - **BNNs**: Flexible connections modified by learning and experience.\n",
    "  - **ANNs**: Fixed connections determined by set weights.\n",
    "          \n",
    "- **Neural Pathways**:\n",
    "  - **BNNs**: Highly complex, modifiable by experience.\n",
    "  - **ANNs**: Simpler, predetermined by network architecture.\n",
    "\n"
   ]
  }
 ],
 "metadata": {
  "language_info": {
   "name": "python"
  }
 },
 "nbformat": 4,
 "nbformat_minor": 2
}
