{
 "cells": [
  {
   "cell_type": "markdown",
   "metadata": {},
   "source": [
    "#  __Difference between ANN and BNN__"
   ]
  },
  {
   "cell_type": "markdown",
   "metadata": {},
   "source": [
    "__Date__ : 9, July, 2024 "
   ]
  },
  {
   "cell_type": "markdown",
   "metadata": {},
   "source": [
    "#### __Artificial Neural Network (ANN)__\n",
    "- **Definition**: A type of neural network based on a Feed-Forward strategy, passing information through nodes continuously until it reaches the output node.\n",
    "\n",
    "- **Advantages**:\n",
    "  - Can learn from both linear and non-linear data.\n",
    "  - Effective in financial time series forecasting.\n",
    "- **Disadvantages**:\n",
    "  - Simple architecture makes behavior explanation difficult.\n",
    "  - Dependent on hardware.\n"
   ]
  }
 ],
 "metadata": {
  "language_info": {
   "name": "python"
  }
 },
 "nbformat": 4,
 "nbformat_minor": 2
}
