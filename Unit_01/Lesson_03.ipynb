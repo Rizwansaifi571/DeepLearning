{
 "cells": [
  {
   "cell_type": "markdown",
   "metadata": {},
   "source": [
    "# __Multi-Layer Perceptron Learning in Tensorflow__"
   ]
  },
  {
   "cell_type": "markdown",
   "metadata": {},
   "source": [
    "__Date :__ 14, July, 2024. "
   ]
  },
  {
   "cell_type": "markdown",
   "metadata": {},
   "source": [
    "- Multi-layer perception is also known as MLP. It is fully connected dense layers, which transform any input dimension to the desired dimension.\n",
    "\n",
    "- A multi-layer perception is a neural network that has multiple layers. To create a neural network we combine neurons together so that the outputs of some neurons are inputs of other neurons."
   ]
  },
  {
   "cell_type": "markdown",
   "metadata": {},
   "source": [
    "__How Multi-layer Perceptron Work?__"
   ]
  },
  {
   "cell_type": "markdown",
   "metadata": {},
   "source": [
    "- A multi-layer perceptron has one input layer and for each input, there is one neuron(or node).\n",
    "\n",
    "- It has one output layer with a single node for each output.\n",
    "\n",
    "- It can have any number of hidden layers and each hidden layer can have any number of nodes.\n",
    "\n",
    "- Every node in the multi-layer perception uses a sigmoid activation function."
   ]
  }
 ],
 "metadata": {
  "language_info": {
   "name": "python"
  }
 },
 "nbformat": 4,
 "nbformat_minor": 2
}
