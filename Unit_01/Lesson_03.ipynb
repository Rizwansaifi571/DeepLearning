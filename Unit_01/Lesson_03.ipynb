{
 "cells": [
  {
   "cell_type": "markdown",
   "metadata": {},
   "source": [
    "# __Multi-Layer Perceptron Learning in Tensorflow__"
   ]
  },
  {
   "cell_type": "markdown",
   "metadata": {},
   "source": [
    "__Date :__ 14, July, 2024. "
   ]
  },
  {
   "cell_type": "markdown",
   "metadata": {},
   "source": [
    "- Multi-layer perception is also known as MLP. It is fully connected dense layers, which transform any input dimension to the desired dimension.\n",
    "\n",
    "- A multi-layer perception is a neural network that has multiple layers. To create a neural network we combine neurons together so that the outputs of some neurons are inputs of other neurons."
   ]
  },
  {
   "cell_type": "markdown",
   "metadata": {},
   "source": [
    "__How Multi-layer Perceptron Work?__"
   ]
  },
  {
   "cell_type": "markdown",
   "metadata": {},
   "source": [
    "- A multi-layer perceptron has one input layer and for each input, there is one neuron(or node).\n",
    "\n",
    "- It has one output layer with a single node for each output.\n",
    "\n",
    "- It can have any number of hidden layers and each hidden layer can have any number of nodes.\n",
    "\n",
    "- Every node in the multi-layer perception uses a sigmoid activation function."
   ]
  },
  {
   "cell_type": "markdown",
   "metadata": {},
   "source": [
    "__Sigmoid Function__"
   ]
  },
  {
   "cell_type": "markdown",
   "metadata": {},
   "source": [
    "- The sigmoid activation function takes real values as input and converts them to numbers between 0 and 1 using the sigmoid formula.\n",
    "``` bash\n",
    "α(x) = 1 / (1 + exp(-x))\n",
    "\n",
    "       or\n",
    "\n",
    "σ(x) = 1 / (1 + e^-x) \n",
    "\n",
    "```"
   ]
  },
  {
   "cell_type": "markdown",
   "metadata": {},
   "source": [
    "__Where,__ \n",
    "\n",
    "- x -> Input value (Which can be any real number)\n",
    "- e -> Base of natural logarithm == 2.71828\n",
    "- (1 + e^-x) -> Always positive\n",
    "- 1/(1 + e^-x) -> Always greater thab zero"
   ]
  },
  {
   "cell_type": "markdown",
   "metadata": {},
   "source": [
    "# `Stepwise Implementation`"
   ]
  },
  {
   "cell_type": "markdown",
   "metadata": {},
   "source": [
    "`Step 1:` Import the necessary libraries. "
   ]
  },
  {
   "cell_type": "code",
   "execution_count": 10,
   "metadata": {},
   "outputs": [],
   "source": [
    "import matplotlib.pyplot as plt \n",
    "import numpy as np \n",
    "import tensorflow as tf \n",
    "from tensorflow import keras"
   ]
  },
  {
   "cell_type": "markdown",
   "metadata": {},
   "source": [
    "`Step 2:` Download the dataset."
   ]
  },
  {
   "cell_type": "code",
   "execution_count": 12,
   "metadata": {},
   "outputs": [],
   "source": [
    "(x_train, y_train), (x_test, y_test) = tf.keras.datasets.mnist.load_data()"
   ]
  },
  {
   "cell_type": "markdown",
   "metadata": {},
   "source": [
    "`Step 3:` Now we will convert the pixels into floating-point values."
   ]
  },
  {
   "cell_type": "code",
   "execution_count": 13,
   "metadata": {},
   "outputs": [],
   "source": [
    "x_train = x_train.astype('float32')\n",
    "x_test = x_test.astype('float32')\n",
    "\n",
    "gray_scale = 255\n",
    "\n",
    "x_train /= gray_scale\n",
    "x_test /= gray_scale"
   ]
  },
  {
   "cell_type": "markdown",
   "metadata": {},
   "source": [
    "- __Casting to float values:__ Image data is often loaded as integers (e.g., 8-bit integers with values from 0 to 255). Casting to __'float32'__ is necessary because neural networks typically work with floating-point numbers.\n",
    "\n",
    "- __Grayscale :__ Images composed of varying shades of gray, where each pixel's intensity value ranges from 0 (black) to 255 (white).\n",
    "\n",
    "- __Normalization:__ Normalizing the pixel values by dividing by 255 scales the values to the range [0, 1]. This helps improve the training process and gives stabilization of the neural network by providing a consistent range of input values."
   ]
  }
 ],
 "metadata": {
  "kernelspec": {
   "display_name": "Python 3",
   "language": "python",
   "name": "python3"
  },
  "language_info": {
   "name": "python",
   "version": "3.11.9"
  }
 },
 "nbformat": 4,
 "nbformat_minor": 2
}
