{
 "cells": [
  {
   "cell_type": "markdown",
   "metadata": {},
   "source": [
    "# __Deep Neural net with forward and back propagation from scratch – Python__"
   ]
  },
  {
   "cell_type": "markdown",
   "metadata": {},
   "source": [
    "__Date :__ 19, July, 2024. "
   ]
  },
  {
   "cell_type": "markdown",
   "metadata": {},
   "source": [
    "We will implement a deep neural network containing a hidden layer with four units and one output layer. "
   ]
  },
  {
   "cell_type": "markdown",
   "metadata": {},
   "source": [
    "`Steps will be :`\n",
    "\n",
    "1. Visualizing the input data       \n",
    "\n",
    "2. Deciding the shapes of Weight and bias matrix        \n",
    "\n",
    "3. Initializing matrix, function to be used\n",
    "\n",
    "4. Implementing the forward propagation method\n",
    "\n",
    "5. Implementing the cost calculation\n",
    "\n",
    "6. Backpropagation and optimizing\n",
    "\n",
    "7. prediction and visualizing the output            "
   ]
  }
 ],
 "metadata": {
  "language_info": {
   "name": "python"
  }
 },
 "nbformat": 4,
 "nbformat_minor": 2
}
