{
 "cells": [
  {
   "cell_type": "markdown",
   "metadata": {},
   "source": [
    "# __Introduction to Deep Learning__"
   ]
  },
  {
   "cell_type": "markdown",
   "metadata": {},
   "source": [
    "Date : 08, June, 2024"
   ]
  },
  {
   "cell_type": "markdown",
   "metadata": {},
   "source": [
    "* The branch of machine learning that is based on artificial neural network architecture. An artificial neural network or __ANN__ uses layers of interconnected nodes called neurons that work together to process and learn from the input data."
   ]
  },
  {
   "cell_type": "markdown",
   "metadata": {},
   "source": [
    "* In a fully connected Deep neural network, there is an input layer and one or more hidden layers connected one after the other. Each neuron receives input from the previous layer neurons or the input layer. The output of one neuron becomes the input to other neurons in the next layer of the network, and this process continues until the final layer produces the output of the network."
   ]
  },
  {
   "cell_type": "markdown",
   "metadata": {},
   "source": [
    "# __Deep learning in type of Machine learning__"
   ]
  },
  {
   "cell_type": "markdown",
   "metadata": {},
   "source": [
    "* __Supervised Machine Learning :__           \n",
    "\n",
    "            \n",
    "Supervised machine learning is the machine learning technique in which the neural network learns to make predictions or classify data based on the labeled datasets. Here we input both input features along with the target variables."
   ]
  },
  {
   "cell_type": "markdown",
   "metadata": {},
   "source": [
    "* __Unsupervised Machine Learning :__       \n",
    "\n",
    "\n",
    " Unsupervised machine learning is the machine learning technique in which the neural network learns to discover the patterns or to cluster the dataset based on unlabeled datasets.                    "
   ]
  },
  {
   "cell_type": "markdown",
   "metadata": {},
   "source": [
    "* __Reinforcement  Machine Learning :__\n",
    "\n",
    "In reinforcement learning, a computer program (called an agent) learns to make decisions by trying different actions and seeing which ones give the best results (rewards). It uses this feedback to improve over time. "
   ]
  },
  {
   "cell_type": "markdown",
   "metadata": {},
   "source": [
    "__Uses :__"
   ]
  },
  {
   "cell_type": "markdown",
   "metadata": {},
   "source": [
    "* __Supervised Machine Learning:__\n",
    "    * Image Classification, \n",
    "    * Spam Detection, \n",
    "    * Sentiment Analysis, \n",
    "    * Language Translation,   \n",
    "    * Medical Diagnosis."
   ]
  },
  {
   "cell_type": "markdown",
   "metadata": {},
   "source": [
    "* __Unsupervised Machine Learning:__\n",
    "    * Clustering,\n",
    "    * Anomaly Detection, \n",
    "    * Dimensionality Reduction,\n",
    "    * Market basket analysis,\n",
    "    * Document grouping."
   ]
  },
  {
   "cell_type": "markdown",
   "metadata": {},
   "source": [
    "* __Reinforcement  Machine Learning:__\n",
    "    * Robotics, \n",
    "    * Game Playing, \n",
    "    * Autonomus Vehicles, \n",
    "    * Resource Management, \n",
    "    * Personalized Recommendations."
   ]
  }
 ],
 "metadata": {
  "language_info": {
   "name": "python"
  }
 },
 "nbformat": 4,
 "nbformat_minor": 2
}
